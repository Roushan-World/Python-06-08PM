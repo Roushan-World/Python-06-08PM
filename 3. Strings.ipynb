{
 "cells": [
  {
   "cell_type": "markdown",
   "id": "68b93d42",
   "metadata": {},
   "source": [
    "# 3. Strings"
   ]
  },
  {
   "cell_type": "code",
   "execution_count": 1,
   "id": "6ad92565",
   "metadata": {},
   "outputs": [
    {
     "data": {
      "text/plain": [
       "'Hello World'"
      ]
     },
     "execution_count": 1,
     "metadata": {},
     "output_type": "execute_result"
    }
   ],
   "source": [
    "\"Hello World\""
   ]
  },
  {
   "cell_type": "code",
   "execution_count": 2,
   "id": "1ab0738f",
   "metadata": {},
   "outputs": [
    {
     "data": {
      "text/plain": [
       "'Hello World'"
      ]
     },
     "execution_count": 2,
     "metadata": {},
     "output_type": "execute_result"
    }
   ],
   "source": [
    "'Hello World'"
   ]
  },
  {
   "cell_type": "code",
   "execution_count": 3,
   "id": "52a33197",
   "metadata": {},
   "outputs": [
    {
     "data": {
      "text/plain": [
       "'2 3 4 5 6 7 8 9'"
      ]
     },
     "execution_count": 3,
     "metadata": {},
     "output_type": "execute_result"
    }
   ],
   "source": [
    "'2 3 4 5 6 7 8 9'"
   ]
  },
  {
   "cell_type": "code",
   "execution_count": 4,
   "id": "64f99e8f",
   "metadata": {},
   "outputs": [
    {
     "data": {
      "text/plain": [
       "'@ # $ % & ^ '"
      ]
     },
     "execution_count": 4,
     "metadata": {},
     "output_type": "execute_result"
    }
   ],
   "source": [
    "'@ # $ % & ^ '"
   ]
  },
  {
   "cell_type": "code",
   "execution_count": 7,
   "id": "8e4a3592",
   "metadata": {},
   "outputs": [
    {
     "name": "stdout",
     "output_type": "stream",
     "text": [
      "Hello World!\n",
      "<class 'str'>\n"
     ]
    }
   ],
   "source": [
    "# Assigning a string to a variable 'Message'\n",
    "\n",
    "message='Hello World!'\n",
    "print(message)\n",
    "print(type(message))"
   ]
  },
  {
   "cell_type": "markdown",
   "id": "830f9863",
   "metadata": {},
   "source": [
    "# Indexing of a string"
   ]
  },
  {
   "cell_type": "code",
   "execution_count": 18,
   "id": "3b104e57",
   "metadata": {},
   "outputs": [
    {
     "name": "stdout",
     "output_type": "stream",
     "text": [
      "Jayshree\n",
      "<class 'str'>\n",
      "J\n",
      "a\n",
      "y\n",
      "s\n",
      "h\n",
      "r\n",
      "e\n",
      "e\n"
     ]
    }
   ],
   "source": [
    "message='Jayshree'\n",
    "print(message)\n",
    "print(type(message))\n",
    "print(message[0])\n",
    "print(message[1])\n",
    "print(message[2])\n",
    "print(message[3])\n",
    "print(message[4])\n",
    "print(message[5])\n",
    "print(message[6])\n",
    "print(message[7])"
   ]
  },
  {
   "cell_type": "code",
   "execution_count": 28,
   "id": "f8cae198",
   "metadata": {},
   "outputs": [
    {
     "name": "stdout",
     "output_type": "stream",
     "text": [
      "J\n",
      "a\n",
      "y\n",
      "s\n",
      "h\n",
      "r\n",
      "e\n",
      "e\n"
     ]
    }
   ],
   "source": [
    "# Negative indexing number\n",
    "print(message[-8])\n",
    "print(message[-7])\n",
    "print(message[-6])\n",
    "print(message[-5])\n",
    "print(message[-4])\n",
    "print(message[-3])\n",
    "print(message[-2])\n",
    "print(message[-1])"
   ]
  },
  {
   "cell_type": "code",
   "execution_count": null,
   "id": "243563f8",
   "metadata": {},
   "outputs": [],
   "source": []
  }
 ],
 "metadata": {
  "kernelspec": {
   "display_name": "Python 3 (ipykernel)",
   "language": "python",
   "name": "python3"
  },
  "language_info": {
   "codemirror_mode": {
    "name": "ipython",
    "version": 3
   },
   "file_extension": ".py",
   "mimetype": "text/x-python",
   "name": "python",
   "nbconvert_exporter": "python",
   "pygments_lexer": "ipython3",
   "version": "3.9.13"
  }
 },
 "nbformat": 4,
 "nbformat_minor": 5
}
