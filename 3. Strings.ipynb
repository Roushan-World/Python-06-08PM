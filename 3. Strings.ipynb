{
 "cells": [
  {
   "cell_type": "markdown",
   "id": "68b93d42",
   "metadata": {},
   "source": [
    "# 3. Strings"
   ]
  },
  {
   "cell_type": "code",
   "execution_count": 1,
   "id": "6ad92565",
   "metadata": {},
   "outputs": [
    {
     "data": {
      "text/plain": [
       "'Hello World'"
      ]
     },
     "execution_count": 1,
     "metadata": {},
     "output_type": "execute_result"
    }
   ],
   "source": [
    "\"Hello World\""
   ]
  },
  {
   "cell_type": "code",
   "execution_count": 2,
   "id": "1ab0738f",
   "metadata": {},
   "outputs": [
    {
     "data": {
      "text/plain": [
       "'Hello World'"
      ]
     },
     "execution_count": 2,
     "metadata": {},
     "output_type": "execute_result"
    }
   ],
   "source": [
    "'Hello World'"
   ]
  },
  {
   "cell_type": "code",
   "execution_count": 3,
   "id": "52a33197",
   "metadata": {},
   "outputs": [
    {
     "data": {
      "text/plain": [
       "'2 3 4 5 6 7 8 9'"
      ]
     },
     "execution_count": 3,
     "metadata": {},
     "output_type": "execute_result"
    }
   ],
   "source": [
    "'2 3 4 5 6 7 8 9'"
   ]
  },
  {
   "cell_type": "code",
   "execution_count": 4,
   "id": "64f99e8f",
   "metadata": {},
   "outputs": [
    {
     "data": {
      "text/plain": [
       "'@ # $ % & ^ '"
      ]
     },
     "execution_count": 4,
     "metadata": {},
     "output_type": "execute_result"
    }
   ],
   "source": [
    "'@ # $ % & ^ '"
   ]
  },
  {
   "cell_type": "code",
   "execution_count": 7,
   "id": "8e4a3592",
   "metadata": {},
   "outputs": [
    {
     "name": "stdout",
     "output_type": "stream",
     "text": [
      "Hello World!\n",
      "<class 'str'>\n"
     ]
    }
   ],
   "source": [
    "# Assigning a string to a variable 'Message'\n",
    "\n",
    "message='Hello World!'\n",
    "print(message)\n",
    "print(type(message))"
   ]
  },
  {
   "cell_type": "markdown",
   "id": "830f9863",
   "metadata": {},
   "source": [
    "# Indexing of a string"
   ]
  },
  {
   "cell_type": "code",
   "execution_count": 18,
   "id": "3b104e57",
   "metadata": {},
   "outputs": [
    {
     "name": "stdout",
     "output_type": "stream",
     "text": [
      "Jayshree\n",
      "<class 'str'>\n",
      "J\n",
      "a\n",
      "y\n",
      "s\n",
      "h\n",
      "r\n",
      "e\n",
      "e\n"
     ]
    }
   ],
   "source": [
    "message='Jayshree'\n",
    "print(message)\n",
    "print(type(message))\n",
    "print(message[0])\n",
    "print(message[1])\n",
    "print(message[2])\n",
    "print(message[3])\n",
    "print(message[4])\n",
    "print(message[5])\n",
    "print(message[6])\n",
    "print(message[7])"
   ]
  },
  {
   "cell_type": "code",
   "execution_count": 28,
   "id": "f8cae198",
   "metadata": {},
   "outputs": [
    {
     "name": "stdout",
     "output_type": "stream",
     "text": [
      "J\n",
      "a\n",
      "y\n",
      "s\n",
      "h\n",
      "r\n",
      "e\n",
      "e\n"
     ]
    }
   ],
   "source": [
    "# Negative indexing number\n",
    "print(message[-8])\n",
    "print(message[-7])\n",
    "print(message[-6])\n",
    "print(message[-5])\n",
    "print(message[-4])\n",
    "print(message[-3])\n",
    "print(message[-2])\n",
    "print(message[-1])"
   ]
  },
  {
   "cell_type": "code",
   "execution_count": 7,
   "id": "243563f8",
   "metadata": {},
   "outputs": [
    {
     "data": {
      "text/plain": [
       "'Hello World'"
      ]
     },
     "execution_count": 7,
     "metadata": {},
     "output_type": "execute_result"
    }
   ],
   "source": [
    "xy=\"Hello World\"\n",
    "\n",
    "xy"
   ]
  },
  {
   "cell_type": "code",
   "execution_count": 11,
   "id": "66092221",
   "metadata": {},
   "outputs": [
    {
     "name": "stdout",
     "output_type": "stream",
     "text": [
      " \n",
      "H\n"
     ]
    }
   ],
   "source": [
    "print(xy[5])\n",
    "print(xy[0])"
   ]
  },
  {
   "cell_type": "code",
   "execution_count": 13,
   "id": "ea8b6ad4",
   "metadata": {},
   "outputs": [
    {
     "name": "stdout",
     "output_type": "stream",
     "text": [
      "W\n",
      "W\n"
     ]
    }
   ],
   "source": [
    "print(xy[6])\n",
    "print(xy[-5])"
   ]
  },
  {
   "cell_type": "markdown",
   "id": "f8e64b43",
   "metadata": {},
   "source": [
    "# Slicing of a string"
   ]
  },
  {
   "cell_type": "code",
   "execution_count": 14,
   "id": "9bdeeefb",
   "metadata": {},
   "outputs": [
    {
     "name": "stdout",
     "output_type": "stream",
     "text": [
      "Hello World\n"
     ]
    }
   ],
   "source": [
    "slicing='Hello World'\n",
    "\n",
    "print(slicing)"
   ]
  },
  {
   "cell_type": "code",
   "execution_count": 22,
   "id": "cd002d77",
   "metadata": {},
   "outputs": [
    {
     "name": "stdout",
     "output_type": "stream",
     "text": [
      "Hello\n",
      "Wo\n",
      "Hello World\n",
      "Hello World\n"
     ]
    }
   ],
   "source": [
    "print(slicing[0:5])   # Starting Index : Ending Index.\n",
    "print(slicing[6:8])\n",
    "print(slicing[0:11])\n",
    "print(slicing[:])"
   ]
  },
  {
   "cell_type": "code",
   "execution_count": 25,
   "id": "28ec3244",
   "metadata": {},
   "outputs": [
    {
     "name": "stdout",
     "output_type": "stream",
     "text": [
      "Jyhe\n"
     ]
    }
   ],
   "source": [
    "name='Jayshree'\n",
    "print(name[0:8:2])"
   ]
  },
  {
   "cell_type": "code",
   "execution_count": 36,
   "id": "3d26f6c1",
   "metadata": {},
   "outputs": [
    {
     "name": "stdout",
     "output_type": "stream",
     "text": [
      "12345678910\n",
      "159\n"
     ]
    }
   ],
   "source": [
    "count='12345678910'\n",
    "\n",
    "print(count[0:11])\n",
    "print(count[0:11:4])"
   ]
  },
  {
   "cell_type": "markdown",
   "id": "578d6942",
   "metadata": {},
   "source": [
    "# Concatenate of Strings"
   ]
  },
  {
   "cell_type": "code",
   "execution_count": 43,
   "id": "115a9c05",
   "metadata": {},
   "outputs": [
    {
     "name": "stdout",
     "output_type": "stream",
     "text": [
      "Hello World! How many people are living of the earth?\n"
     ]
    }
   ],
   "source": [
    "message='Hello World!'\n",
    "\n",
    "question=' How many people are living of the earth?'\n",
    "\n",
    "statement=message+question\n",
    "print(statement)"
   ]
  },
  {
   "cell_type": "code",
   "execution_count": 45,
   "id": "733c275d",
   "metadata": {},
   "outputs": [
    {
     "name": "stdout",
     "output_type": "stream",
     "text": [
      "Jayshree Pawar\n"
     ]
    }
   ],
   "source": [
    "firstname='Jayshree '\n",
    "lastname='Pawar'\n",
    "fullname=firstname+lastname\n",
    "print(fullname)"
   ]
  },
  {
   "cell_type": "code",
   "execution_count": 46,
   "id": "71af04ff",
   "metadata": {},
   "outputs": [
    {
     "data": {
      "text/plain": [
       "'Jayshree PawarJayshree PawarJayshree PawarJayshree Pawar'"
      ]
     },
     "execution_count": 46,
     "metadata": {},
     "output_type": "execute_result"
    }
   ],
   "source": [
    "# printing a string for 4 times.\n",
    "\n",
    "4*fullname"
   ]
  },
  {
   "cell_type": "code",
   "execution_count": 47,
   "id": "4e4b1339",
   "metadata": {},
   "outputs": [
    {
     "data": {
      "text/plain": [
       "'Hello World! How many people are living of the earth?Hello World! How many people are living of the earth?Hello World! How many people are living of the earth?Hello World! How many people are living of the earth?Hello World! How many people are living of the earth?'"
      ]
     },
     "execution_count": 47,
     "metadata": {},
     "output_type": "execute_result"
    }
   ],
   "source": [
    "5*statement"
   ]
  },
  {
   "cell_type": "markdown",
   "id": "642c2dd0",
   "metadata": {},
   "source": [
    "# Escape Squence"
   ]
  },
  {
   "cell_type": "code",
   "execution_count": 58,
   "id": "4ec01a69",
   "metadata": {},
   "outputs": [
    {
     "name": "stdout",
     "output_type": "stream",
     "text": [
      "Jayshree\n",
      "pawar\n"
     ]
    }
   ],
   "source": [
    "name1='Jayshree\\npawar'   #\\n-------> newline\n",
    "print(name1)\n"
   ]
  },
  {
   "cell_type": "code",
   "execution_count": 62,
   "id": "fdb0ddf0",
   "metadata": {},
   "outputs": [
    {
     "name": "stdout",
     "output_type": "stream",
     "text": [
      "\\\\\\\\\\\n"
     ]
    }
   ],
   "source": [
    "# printing of backslash\n",
    "print('\\\\\\\\\\\\\\\\\\\\')"
   ]
  },
  {
   "cell_type": "code",
   "execution_count": 65,
   "id": "284d9ccf",
   "metadata": {},
   "outputs": [
    {
     "name": "stdout",
     "output_type": "stream",
     "text": [
      "Hello World!\tHow many people are living on the earth?\n"
     ]
    }
   ],
   "source": [
    "# Tab Escape Sequence \n",
    "print('Hello World!\\tHow many people are living on the earth?')"
   ]
  },
  {
   "cell_type": "code",
   "execution_count": 72,
   "id": "ee835ebf",
   "metadata": {},
   "outputs": [
    {
     "name": "stdout",
     "output_type": "stream",
     "text": [
      "Hello World!\\\\\\How many people are living on the earth?\n"
     ]
    }
   ],
   "source": [
    "# printing of backslash\n",
    "print('Hello World!\\\\\\\\\\\\How many people are living on the earth?')"
   ]
  },
  {
   "cell_type": "markdown",
   "id": "62a36695",
   "metadata": {},
   "source": [
    "# String Operations"
   ]
  },
  {
   "cell_type": "code",
   "execution_count": 83,
   "id": "62c3066c",
   "metadata": {},
   "outputs": [
    {
     "name": "stdout",
     "output_type": "stream",
     "text": [
      "Before uppercase: hello python!\n",
      "After uppercase: HELLO PYTHON!\n",
      "Again Lowercase: hello python!\n"
     ]
    }
   ],
   "source": [
    "message='hello python!'\n",
    "\n",
    "print('Before uppercase:',message)\n",
    "\n",
    "message_upper=message.upper()\n",
    "print('After uppercase:',message_upper)\n",
    "\n",
    "message_lower=message.lower()\n",
    "print('Again Lowercase:',message_lower)"
   ]
  },
  {
   "cell_type": "code",
   "execution_count": 78,
   "id": "8181d9b1",
   "metadata": {},
   "outputs": [
    {
     "name": "stdout",
     "output_type": "stream",
     "text": [
      "Hello Python!\n",
      "Hello Jayshree!\n"
     ]
    }
   ],
   "source": [
    "# replace method in a string\n",
    "\n",
    "message='Hello Python!'\n",
    "print(message)\n",
    "message_hi=message.replace('Python!','Jayshree!')\n",
    "print(message_hi)\n"
   ]
  },
  {
   "cell_type": "code",
   "execution_count": 80,
   "id": "94366cbd",
   "metadata": {},
   "outputs": [
    {
     "name": "stdout",
     "output_type": "stream",
     "text": [
      "6\n"
     ]
    }
   ],
   "source": [
    "# find() method application in a string\n",
    "\n",
    "message='Hello Python'\n",
    "print(message.find('Python'))\n",
    "\n",
    "# the output is the index number of the first element of the substring."
   ]
  },
  {
   "cell_type": "code",
   "execution_count": 81,
   "id": "f1b014b5",
   "metadata": {},
   "outputs": [
    {
     "data": {
      "text/plain": [
       "0"
      ]
     },
     "execution_count": 81,
     "metadata": {},
     "output_type": "execute_result"
    }
   ],
   "source": [
    "message.find('Hello')"
   ]
  },
  {
   "cell_type": "code",
   "execution_count": 84,
   "id": "339597c6",
   "metadata": {},
   "outputs": [
    {
     "data": {
      "text/plain": [
       "-1"
      ]
     },
     "execution_count": 84,
     "metadata": {},
     "output_type": "execute_result"
    }
   ],
   "source": [
    "# When there is no word cat it provides as -1\n",
    "message.find('cat')"
   ]
  },
  {
   "cell_type": "code",
   "execution_count": 85,
   "id": "a04ad107",
   "metadata": {},
   "outputs": [
    {
     "data": {
      "text/plain": [
       "-1"
      ]
     },
     "execution_count": 85,
     "metadata": {},
     "output_type": "execute_result"
    }
   ],
   "source": [
    "message.find('Jayshree')"
   ]
  },
  {
   "cell_type": "code",
   "execution_count": 86,
   "id": "d515ff54",
   "metadata": {},
   "outputs": [
    {
     "data": {
      "text/plain": [
       "256"
      ]
     },
     "execution_count": 86,
     "metadata": {},
     "output_type": "execute_result"
    }
   ],
   "source": [
    "text='Sara is the daughter of famous Indian cricketer Sachin Tendulkar. She is born in 12nd October 1997 in Mumbai, She has done her primary education in Dhirubhai Ambani International School. She is currently taking higher education in London. Her brother is a faster bowler in Indian U-19 Team. She Loves Watching Movies and Travelling and Reading.'\n",
    "\n",
    "text.find('faster')"
   ]
  },
  {
   "cell_type": "code",
   "execution_count": 87,
   "id": "43a2a3e2",
   "metadata": {},
   "outputs": [
    {
     "name": "stdout",
     "output_type": "stream",
     "text": [
      "SARA IS THE DAUGHTER OF FAMOUS INDIAN CRICKETER SACHIN TENDULKAR. SHE IS BORN IN 12ND OCTOBER 1997 IN MUMBAI, SHE HAS DONE HER PRIMARY EDUCATION IN DHIRUBHAI AMBANI INTERNATIONAL SCHOOL. SHE IS CURRENTLY TAKING HIGHER EDUCATION IN LONDON. HER BROTHER IS A FASTER BOWLER IN INDIAN U-19 TEAM. SHE LOVES WATCHING MOVIES AND TRAVELLING AND READING.\n"
     ]
    }
   ],
   "source": [
    "print(text.upper())"
   ]
  },
  {
   "cell_type": "code",
   "execution_count": 88,
   "id": "07404108",
   "metadata": {},
   "outputs": [
    {
     "data": {
      "text/plain": [
       "12"
      ]
     },
     "execution_count": 88,
     "metadata": {},
     "output_type": "execute_result"
    }
   ],
   "source": [
    "text.find('daughter')"
   ]
  },
  {
   "cell_type": "code",
   "execution_count": 90,
   "id": "c5d1e415",
   "metadata": {},
   "outputs": [
    {
     "data": {
      "text/plain": [
       "'Jayshree is the daughter of famous Indian cricketer Sachin Tendulkar. She is born in 12nd October 1997 in Mumbai, She has done her primary education in Dhirubhai Ambani International School. She is currently taking higher education in London. Her brother is a faster bowler in Indian U-19 Team. She Loves Watching Movies and Travelling and Reading.'"
      ]
     },
     "execution_count": 90,
     "metadata": {},
     "output_type": "execute_result"
    }
   ],
   "source": [
    "text.replace('Sara','Jayshree')"
   ]
  },
  {
   "cell_type": "code",
   "execution_count": 91,
   "id": "04840d85",
   "metadata": {},
   "outputs": [
    {
     "data": {
      "text/plain": [
       "'sara is the daughter of famous indian cricketer sachin tendulkar. she is born in 12nd october 1997 in mumbai, she has done her primary education in dhirubhai ambani international school. she is currently taking higher education in london. her brother is a faster bowler in indian u-19 team. she loves watching movies and travelling and reading.'"
      ]
     },
     "execution_count": 91,
     "metadata": {},
     "output_type": "execute_result"
    }
   ],
   "source": [
    "text.lower()"
   ]
  },
  {
   "cell_type": "code",
   "execution_count": 92,
   "id": "1eec7a1d",
   "metadata": {},
   "outputs": [
    {
     "data": {
      "text/plain": [
       "'Sara is the daughter of famous indian cricketer sachin tendulkar. she is born in 12nd october 1997 in mumbai, she has done her primary education in dhirubhai ambani international school. she is currently taking higher education in london. her brother is a faster bowler in indian u-19 team. she loves watching movies and travelling and reading.'"
      ]
     },
     "execution_count": 92,
     "metadata": {},
     "output_type": "execute_result"
    }
   ],
   "source": [
    "# Convert the first letter of the text to capital letter.\n",
    "# capitalize function()\n",
    "text.capitalize()"
   ]
  },
  {
   "cell_type": "code",
   "execution_count": 94,
   "id": "aef33598",
   "metadata": {},
   "outputs": [
    {
     "data": {
      "text/plain": [
       "4"
      ]
     },
     "execution_count": 94,
     "metadata": {},
     "output_type": "execute_result"
    }
   ],
   "source": [
    "# count() method returns the number of elements with the speified value.\n",
    "\n",
    "text.count('is')"
   ]
  },
  {
   "cell_type": "code",
   "execution_count": 97,
   "id": "08e149d2",
   "metadata": {},
   "outputs": [
    {
     "name": "stdout",
     "output_type": "stream",
     "text": [
      "Hello World\n",
      "Hello Jayshree\n",
      "Hi, My name is Jayshree and I am 25 years old.\n"
     ]
    }
   ],
   "source": [
    "# format() method\n",
    "''' The format() methods fortmats the specified value(s) and insert them inside the\n",
    "string's placeholder. The placeholder is defined using curly brackets:{}\n",
    "'''\n",
    "\n",
    "txt= \"Hello {word}\"\n",
    "print(txt.format(word='World'))\n",
    "print(txt.format(word='Jayshree'))\n",
    "\n",
    "\n",
    "message1='Hi, My name is {} and I am {} years old.'\n",
    "print(message1.format('Jayshree',25))"
   ]
  },
  {
   "cell_type": "code",
   "execution_count": 99,
   "id": "2fbe8be7",
   "metadata": {},
   "outputs": [
    {
     "name": "stdout",
     "output_type": "stream",
     "text": [
      "Hi, My name is Devyani and I am 13 years old.\n",
      "Hi, My name is xyz and I am 100 years old.\n"
     ]
    }
   ],
   "source": [
    "print(message1.format('Devyani',13))\n",
    "print(message1.format('xyz',100))"
   ]
  },
  {
   "cell_type": "code",
   "execution_count": 101,
   "id": "d44c7df8",
   "metadata": {},
   "outputs": [
    {
     "name": "stdout",
     "output_type": "stream",
     "text": [
      "Hi, My name is Jayshree and I am 30 years old.\n"
     ]
    }
   ],
   "source": [
    "message2='Hi, My name is {name} and I am {age} years old.'\n",
    "print(message2.format(name='Jayshree',age=30))"
   ]
  },
  {
   "cell_type": "code",
   "execution_count": 102,
   "id": "5dd07fbb",
   "metadata": {},
   "outputs": [
    {
     "name": "stdout",
     "output_type": "stream",
     "text": [
      "Hi, My name is jasmeen and I am 20 years old.\n"
     ]
    }
   ],
   "source": [
    "message3='Hi, My name is {0} and I am {1} years old.'\n",
    "\n",
    "print(message3.format('jasmeen',20))"
   ]
  },
  {
   "cell_type": "code",
   "execution_count": 103,
   "id": "90476b7a",
   "metadata": {},
   "outputs": [
    {
     "name": "stdout",
     "output_type": "stream",
     "text": [
      "Hi, My name is Jasmeen and I am 20 years old.\n"
     ]
    }
   ],
   "source": [
    "print('Hi, My name is Jasmeen and I am 20 years old.')"
   ]
  },
  {
   "cell_type": "code",
   "execution_count": null,
   "id": "a5e1dc3c",
   "metadata": {},
   "outputs": [],
   "source": []
  }
 ],
 "metadata": {
  "kernelspec": {
   "display_name": "Python 3 (ipykernel)",
   "language": "python",
   "name": "python3"
  },
  "language_info": {
   "codemirror_mode": {
    "name": "ipython",
    "version": 3
   },
   "file_extension": ".py",
   "mimetype": "text/x-python",
   "name": "python",
   "nbconvert_exporter": "python",
   "pygments_lexer": "ipython3",
   "version": "3.9.13"
  }
 },
 "nbformat": 4,
 "nbformat_minor": 5
}
