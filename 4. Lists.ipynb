{
 "cells": [
  {
   "cell_type": "markdown",
   "id": "37775530",
   "metadata": {},
   "source": [
    "# 4. Lists"
   ]
  },
  {
   "cell_type": "markdown",
   "id": "fc8deb3e",
   "metadata": {},
   "source": [
    " * Lists are ordered\n",
    " * Lists can contains any arbitrary objects.\n",
    " * Lists elements can be accessed by index.\n",
    " * Lists can be nested to arbitrary depth.\n",
    " * Lists are mutable.\n",
    " * Lists are dynamic."
   ]
  },
  {
   "cell_type": "code",
   "execution_count": 1,
   "id": "0a24013f",
   "metadata": {},
   "outputs": [
    {
     "data": {
      "text/plain": [
       "['Hello World', 25, 2023]"
      ]
     },
     "execution_count": 1,
     "metadata": {},
     "output_type": "execute_result"
    }
   ],
   "source": [
    "# Creating a lsit\n",
    "\n",
    "x=['Hello World',25,2023]\n",
    "x"
   ]
  },
  {
   "cell_type": "code",
   "execution_count": 4,
   "id": "d6b247c6",
   "metadata": {},
   "outputs": [
    {
     "name": "stdout",
     "output_type": "stream",
     "text": [
      "Hello World\n",
      "25\n",
      "2023\n"
     ]
    }
   ],
   "source": [
    "print(x[0])\n",
    "print(x[1])\n",
    "print(x[2])"
   ]
  },
  {
   "cell_type": "code",
   "execution_count": 8,
   "id": "495331a0",
   "metadata": {},
   "outputs": [
    {
     "name": "stdout",
     "output_type": "stream",
     "text": [
      "Positive and negative indexing of the first element:  Hello World Negative indexing:  Hello World\n",
      "Positive and Negative indexing of the second element:  25 Negative indexing:  25\n",
      "Positive and Negative indexing of the third element:  2023 Negative indexing:  2023\n"
     ]
    }
   ],
   "source": [
    "print('Positive and negative indexing of the first element: ',x[0],'Negative indexing: ',x[-3])\n",
    "print('Positive and Negative indexing of the second element: ',x[1], 'Negative indexing: ',x[-2])\n",
    "print('Positive and Negative indexing of the third element: ',x[2],'Negative indexing: ',x[-1])"
   ]
  },
  {
   "cell_type": "markdown",
   "id": "08878bea",
   "metadata": {},
   "source": [
    "# What can content a list?\n",
    "\n",
    " * Strings\n",
    " * Float\n",
    " * Integer\n",
    " * Boolean\n",
    " * Nested List\n",
    " * Nested Tuple\n",
    " * Other Data Structures"
   ]
  },
  {
   "cell_type": "code",
   "execution_count": 22,
   "id": "e6f3afb4",
   "metadata": {},
   "outputs": [
    {
     "data": {
      "text/plain": [
       "['Python',\n",
       " 3.14,\n",
       " 2023,\n",
       " True,\n",
       " False,\n",
       " [1, 2, 3, 4, 5, 6, 7, 8, 'Jayshree'],\n",
       " ('Hello World', 3.14, 2023)]"
      ]
     },
     "execution_count": 22,
     "metadata": {},
     "output_type": "execute_result"
    }
   ],
   "source": [
    "xy=['Python',3.14,2023,True,False,[1,2,3,4,5,6,7,8,'Jayshree'],('Hello World',3.14,2023)]\n",
    "xy"
   ]
  },
  {
   "cell_type": "code",
   "execution_count": 12,
   "id": "d3a2639a",
   "metadata": {},
   "outputs": [
    {
     "data": {
      "text/plain": [
       "7"
      ]
     },
     "execution_count": 12,
     "metadata": {},
     "output_type": "execute_result"
    }
   ],
   "source": [
    "# length of the lsit\n",
    "len(xy)"
   ]
  },
  {
   "cell_type": "markdown",
   "id": "3a4a21f9",
   "metadata": {},
   "source": [
    "# Slicing of the list"
   ]
  },
  {
   "cell_type": "code",
   "execution_count": 23,
   "id": "3b1d76ef",
   "metadata": {},
   "outputs": [
    {
     "name": "stdout",
     "output_type": "stream",
     "text": [
      "[[1, 2, 3, 4, 5, 6, 7, 8, 'Jayshree']]\n"
     ]
    }
   ],
   "source": [
    "# Slicing of a list.\n",
    "\n",
    "print(xy[5:6])"
   ]
  },
  {
   "cell_type": "code",
   "execution_count": 29,
   "id": "e1d41e71",
   "metadata": {},
   "outputs": [
    {
     "name": "stdout",
     "output_type": "stream",
     "text": [
      "Jayshree\n"
     ]
    }
   ],
   "source": [
    "print(xy[5][8])"
   ]
  },
  {
   "cell_type": "code",
   "execution_count": 32,
   "id": "706ff78c",
   "metadata": {},
   "outputs": [
    {
     "name": "stdout",
     "output_type": "stream",
     "text": [
      "Hello World\n"
     ]
    }
   ],
   "source": [
    "print(xy[6][0])"
   ]
  },
  {
   "cell_type": "markdown",
   "id": "e4be137c",
   "metadata": {},
   "source": [
    "# Extending the list"
   ]
  },
  {
   "cell_type": "markdown",
   "id": "411880c1",
   "metadata": {},
   "source": [
    " * We use extend() function to add a new element to the list.\n",
    " * With this function, we add more than one element to the list."
   ]
  },
  {
   "cell_type": "code",
   "execution_count": 36,
   "id": "31a78f1a",
   "metadata": {},
   "outputs": [
    {
     "name": "stdout",
     "output_type": "stream",
     "text": [
      "['Python', 3.14, 2023, True, False, [1, 2, 3, 4, 5, 6, 7, 8, 9], ('Hello World', 3.14, 2023)]\n"
     ]
    },
    {
     "data": {
      "text/plain": [
       "['Python',\n",
       " 3.14,\n",
       " 2023,\n",
       " True,\n",
       " False,\n",
       " [1, 2, 3, 4, 5, 6, 7, 8, 9],\n",
       " ('Hello World', 3.14, 2023),\n",
       " 'Jayshree',\n",
       " 25,\n",
       " 5.3]"
      ]
     },
     "execution_count": 36,
     "metadata": {},
     "output_type": "execute_result"
    }
   ],
   "source": [
    "xy=['Python',3.14,2023,True,False,[1,2,3,4,5,6,7,8,9],('Hello World',3.14,2023)]\n",
    "print(xy)\n",
    "xy.extend(['Jayshree',25,5.3])  #it include at the end of the list.\n",
    "xy"
   ]
  },
  {
   "cell_type": "markdown",
   "id": "3f2de2f9",
   "metadata": {},
   "source": [
    "# append() method\n",
    "\n",
    " * As different from the extend() mehtod with the append() method, We add only one element to the list\n",
    " * You can see the differece by comparing the above and below codes."
   ]
  },
  {
   "cell_type": "code",
   "execution_count": 40,
   "id": "bc8898f5",
   "metadata": {},
   "outputs": [
    {
     "data": {
      "text/plain": [
       "['Python',\n",
       " 3.14,\n",
       " 2023,\n",
       " True,\n",
       " False,\n",
       " [1, 2, 3, 4, 5, 6, 7, 8, 'Jayshree'],\n",
       " ('Hello World', 3.14, 2023),\n",
       " 1.618]"
      ]
     },
     "execution_count": 40,
     "metadata": {},
     "output_type": "execute_result"
    }
   ],
   "source": [
    "xy=['Python',3.14,2023,True,False,[1,2,3,4,5,6,7,8,'Jayshree'],('Hello World',3.14,2023)]\n",
    "\n",
    "xy.append(1.618)\n",
    "xy"
   ]
  },
  {
   "cell_type": "markdown",
   "id": "d38f95e3",
   "metadata": {},
   "source": [
    "# len(), append(),count(), index(),insert(),max(),min(),sum() functions"
   ]
  },
  {
   "cell_type": "code",
   "execution_count": 52,
   "id": "2767eadd",
   "metadata": {},
   "outputs": [
    {
     "name": "stdout",
     "output_type": "stream",
     "text": [
      "7\n",
      "[1, 2, 3, 4, 5, 6, 7, 4]\n",
      "2\n",
      "1\n",
      "[1, 2, 3, 4, 5, 6, 7, 4, 9]\n",
      "9\n",
      "1\n",
      "41\n"
     ]
    }
   ],
   "source": [
    "lis=[1,2,3,4,5,6,7]\n",
    "print(len(lis))\n",
    "lis.append(4)\n",
    "print(lis)\n",
    "print(lis.count(4)) # How many 4 are on the list 'lis'?\n",
    "print(lis.index(2)) # What is the index number of 2 in the list \"lis\"?\n",
    "lis.insert(8,9)     # Add number 9 to the index 8.\n",
    "print(lis)\n",
    "\n",
    "print(max(lis))    # What is the maximum number of list 'lis'?\n",
    "print(min(lis))    # What is the minimum number of the list 'lis'?\n",
    "print(sum(lis))    # What is the total sum of the list 'lis'?"
   ]
  },
  {
   "cell_type": "markdown",
   "id": "3d2f82e5",
   "metadata": {},
   "source": [
    "# Changing the element of a list since it is mutable."
   ]
  },
  {
   "cell_type": "code",
   "execution_count": 62,
   "id": "4f4b3b3b",
   "metadata": {},
   "outputs": [
    {
     "name": "stdout",
     "output_type": "stream",
     "text": [
      "Before Changing:  ['Python', 3.14, 2023, True, False, [1, 2, 3, 4, 5, 6, 7, 8, 'Jayshree'], (1, 2, 3, 4, 5)]\n",
      "After Changing: ['Nashik', 3.14, 2023, True, False, [1, 2, 3, 4, 5, 6, 7, 8, 'Jayshree'], (1, 2, 3, 4, 5)]\n",
      "After Changing: ['Nashik', 3.14, 2023, True, False, [100, 200, 300, 400], (1, 2, 3, 4, 5)]\n",
      "After Chaning: ['Nashik', 3.14, 2023, True, False, [100, 200, 300, 'Jayshree Pawar'], (1, 2, 3, 4, 5)]\n"
     ]
    }
   ],
   "source": [
    "xy=['Python',3.14,2023,True,False,[1,2,3,4,5,6,7,8,'Jayshree'],(1,2,3,4,5)]\n",
    "print('Before Changing: ',xy)\n",
    "\n",
    "xy[0]='Nashik'\n",
    "print('After Changing:',xy)\n",
    "\n",
    "xy[5]=[100,200,300,400]\n",
    "print('After Changing:',xy)\n",
    "\n",
    "xy[5][3]='Jayshree Pawar'\n",
    "print('After Chaning:',xy)\n",
    "#xy[6][4]=500\n",
    "#print(xy)   #'tuple' object does not support item assignment\n",
    "\n",
    "\n",
    "    \n",
    "    "
   ]
  },
  {
   "cell_type": "code",
   "execution_count": 64,
   "id": "9fb37b0c",
   "metadata": {},
   "outputs": [
    {
     "data": {
      "text/plain": [
       "list"
      ]
     },
     "execution_count": 64,
     "metadata": {},
     "output_type": "execute_result"
    }
   ],
   "source": [
    "x=[1,2,3,4,5,6]\n",
    "type(x)"
   ]
  },
  {
   "cell_type": "markdown",
   "id": "e971bbb4",
   "metadata": {},
   "source": [
    "# Deleting the element from the list using del() function"
   ]
  },
  {
   "cell_type": "code",
   "execution_count": 71,
   "id": "2315662d",
   "metadata": {},
   "outputs": [
    {
     "name": "stdout",
     "output_type": "stream",
     "text": [
      "Before Deleting: []\n"
     ]
    }
   ],
   "source": [
    "print('Before Deleting:',xy)"
   ]
  },
  {
   "cell_type": "code",
   "execution_count": 78,
   "id": "2cd2e47c",
   "metadata": {},
   "outputs": [
    {
     "name": "stdout",
     "output_type": "stream",
     "text": [
      "Before Deleting: ['Python', 3.14, 2023, True, False, [1, 2, 3, 4, 5, 6, 7, 8, 'Jayshree'], (1, 2, 3, 4, 5)]\n",
      "After Deleting: ['Python', 3.14, 2023, True, False, [1, 2, 4, 5, 6, 7, 8, 'Jayshree'], (1, 2, 3, 4, 5)]\n",
      "After Deleting: ['Python', 3.14, 2023, True, False, [1, 2, 4, 5, 6, 7, 8, 'Jayshree']]\n"
     ]
    }
   ],
   "source": [
    "x=['Python',3.14,2023,True,False,[1,2,3,4,5,6,7,8,'Jayshree'],(1,2,3,4,5)]\n",
    "\n",
    "print('Before Deleting:',x)\n",
    "del(x[5][2])\n",
    "print('After Deleting:',x)\n",
    "del(x[-1])\n",
    "print('After Deleting:',x)"
   ]
  },
  {
   "cell_type": "code",
   "execution_count": 80,
   "id": "656dfe6a",
   "metadata": {},
   "outputs": [
    {
     "name": "stdout",
     "output_type": "stream",
     "text": [
      "Before Deleting: ['Python', 3.14, 2023, True, False, [1, 2, 4, 5, 6, 7, 8, 'Jayshree']]\n"
     ]
    },
    {
     "ename": "NameError",
     "evalue": "name 'x' is not defined",
     "output_type": "error",
     "traceback": [
      "\u001b[1;31m---------------------------------------------------------------------------\u001b[0m",
      "\u001b[1;31mNameError\u001b[0m                                 Traceback (most recent call last)",
      "\u001b[1;32m~\\AppData\\Local\\Temp\\ipykernel_11948\\1979109844.py\u001b[0m in \u001b[0;36m<module>\u001b[1;34m\u001b[0m\n\u001b[0;32m      1\u001b[0m \u001b[0mprint\u001b[0m\u001b[1;33m(\u001b[0m\u001b[1;34m'Before Deleting:'\u001b[0m\u001b[1;33m,\u001b[0m\u001b[0mx\u001b[0m\u001b[1;33m)\u001b[0m\u001b[1;33m\u001b[0m\u001b[1;33m\u001b[0m\u001b[0m\n\u001b[0;32m      2\u001b[0m \u001b[1;32mdel\u001b[0m \u001b[1;33m(\u001b[0m\u001b[0mx\u001b[0m\u001b[1;33m)\u001b[0m\u001b[1;33m\u001b[0m\u001b[1;33m\u001b[0m\u001b[0m\n\u001b[1;32m----> 3\u001b[1;33m \u001b[0mprint\u001b[0m\u001b[1;33m(\u001b[0m\u001b[1;34m'After Deleting:'\u001b[0m\u001b[1;33m,\u001b[0m\u001b[0mx\u001b[0m\u001b[1;33m)\u001b[0m\u001b[1;33m\u001b[0m\u001b[1;33m\u001b[0m\u001b[0m\n\u001b[0m",
      "\u001b[1;31mNameError\u001b[0m: name 'x' is not defined"
     ]
    }
   ],
   "source": [
    "print('Before Deleting:',x)\n",
    "del (x)\n",
    "print('After Deleting:',x)"
   ]
  },
  {
   "cell_type": "code",
   "execution_count": null,
   "id": "99e0e250",
   "metadata": {},
   "outputs": [],
   "source": []
  }
 ],
 "metadata": {
  "kernelspec": {
   "display_name": "Python 3 (ipykernel)",
   "language": "python",
   "name": "python3"
  },
  "language_info": {
   "codemirror_mode": {
    "name": "ipython",
    "version": 3
   },
   "file_extension": ".py",
   "mimetype": "text/x-python",
   "name": "python",
   "nbconvert_exporter": "python",
   "pygments_lexer": "ipython3",
   "version": "3.9.13"
  }
 },
 "nbformat": 4,
 "nbformat_minor": 5
}
