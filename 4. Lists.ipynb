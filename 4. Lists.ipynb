{
 "cells": [
  {
   "cell_type": "markdown",
   "id": "7af3dffb",
   "metadata": {},
   "source": [
    "# 4. Lists"
   ]
  },
  {
   "cell_type": "markdown",
   "id": "d5e2c0af",
   "metadata": {},
   "source": [
    " * Lists are ordered\n",
    " * Lists can contains any arbitrary objects.\n",
    " * Lists elements can be accessed by index.\n",
    " * Lists can be nested to arbitrary depth.\n",
    " * Lists are mutable.\n",
    " * Lists are dynamic."
   ]
  }
 ],
 "metadata": {
  "kernelspec": {
   "display_name": "Python 3 (ipykernel)",
   "language": "python",
   "name": "python3"
  },
  "language_info": {
   "codemirror_mode": {
    "name": "ipython",
    "version": 3
   },
   "file_extension": ".py",
   "mimetype": "text/x-python",
   "name": "python",
   "nbconvert_exporter": "python",
   "pygments_lexer": "ipython3",
   "version": "3.9.13"
  }
 },
 "nbformat": 4,
 "nbformat_minor": 5
}
